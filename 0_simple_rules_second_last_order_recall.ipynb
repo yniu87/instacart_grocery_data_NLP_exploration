{
 "cells": [
  {
   "cell_type": "markdown",
   "id": "e35f541e",
   "metadata": {},
   "source": [
    "### Rule: find the reordered items in the second to last purchase\n",
    "### These will be the prediction for the last purchase"
   ]
  },
  {
   "cell_type": "code",
   "execution_count": 1,
   "id": "da8e8b3a",
   "metadata": {},
   "outputs": [],
   "source": [
    "import numpy as np # linear algebra\n",
    "import pandas as pd # data processing, CSV file I/O (e.g. pd.read_csv)\n",
    "import matplotlib.pyplot as plt\n",
    "import seaborn as sns\n",
    "color = sns.color_palette()\n",
    "\n",
    "%matplotlib inline"
   ]
  },
  {
   "cell_type": "code",
   "execution_count": 2,
   "id": "a737c24f",
   "metadata": {},
   "outputs": [],
   "source": [
    "order_products_train_df = pd.read_csv(\"input/order_products__train.csv\")\n",
    "order_products_prior_df = pd.read_csv(\"input/order_products__prior.csv\")\n",
    "orders_df = pd.read_csv(\"input/orders.csv\")\n",
    "products_df = pd.read_csv(\"input/products.csv\")\n",
    "aisles_df = pd.read_csv(\"input/aisles.csv\")\n",
    "departments_df = pd.read_csv(\"input/departments.csv\")"
   ]
  },
  {
   "cell_type": "markdown",
   "id": "703917dc",
   "metadata": {},
   "source": [
    "### find the second to last order number per user_id"
   ]
  },
  {
   "cell_type": "code",
   "execution_count": 3,
   "id": "34900852",
   "metadata": {},
   "outputs": [
    {
     "data": {
      "text/html": [
       "<div>\n",
       "<style scoped>\n",
       "    .dataframe tbody tr th:only-of-type {\n",
       "        vertical-align: middle;\n",
       "    }\n",
       "\n",
       "    .dataframe tbody tr th {\n",
       "        vertical-align: top;\n",
       "    }\n",
       "\n",
       "    .dataframe thead th {\n",
       "        text-align: right;\n",
       "    }\n",
       "</style>\n",
       "<table border=\"1\" class=\"dataframe\">\n",
       "  <thead>\n",
       "    <tr style=\"text-align: right;\">\n",
       "      <th></th>\n",
       "      <th>order_id</th>\n",
       "      <th>user_id</th>\n",
       "      <th>eval_set</th>\n",
       "      <th>order_number</th>\n",
       "      <th>order_dow</th>\n",
       "      <th>order_hour_of_day</th>\n",
       "      <th>days_since_prior_order</th>\n",
       "    </tr>\n",
       "  </thead>\n",
       "  <tbody>\n",
       "    <tr>\n",
       "      <th>0</th>\n",
       "      <td>2539329</td>\n",
       "      <td>1</td>\n",
       "      <td>prior</td>\n",
       "      <td>1</td>\n",
       "      <td>2</td>\n",
       "      <td>8</td>\n",
       "      <td>NaN</td>\n",
       "    </tr>\n",
       "    <tr>\n",
       "      <th>1</th>\n",
       "      <td>2398795</td>\n",
       "      <td>1</td>\n",
       "      <td>prior</td>\n",
       "      <td>2</td>\n",
       "      <td>3</td>\n",
       "      <td>7</td>\n",
       "      <td>15.0</td>\n",
       "    </tr>\n",
       "    <tr>\n",
       "      <th>2</th>\n",
       "      <td>473747</td>\n",
       "      <td>1</td>\n",
       "      <td>prior</td>\n",
       "      <td>3</td>\n",
       "      <td>3</td>\n",
       "      <td>12</td>\n",
       "      <td>21.0</td>\n",
       "    </tr>\n",
       "    <tr>\n",
       "      <th>3</th>\n",
       "      <td>2254736</td>\n",
       "      <td>1</td>\n",
       "      <td>prior</td>\n",
       "      <td>4</td>\n",
       "      <td>4</td>\n",
       "      <td>7</td>\n",
       "      <td>29.0</td>\n",
       "    </tr>\n",
       "    <tr>\n",
       "      <th>4</th>\n",
       "      <td>431534</td>\n",
       "      <td>1</td>\n",
       "      <td>prior</td>\n",
       "      <td>5</td>\n",
       "      <td>4</td>\n",
       "      <td>15</td>\n",
       "      <td>28.0</td>\n",
       "    </tr>\n",
       "  </tbody>\n",
       "</table>\n",
       "</div>"
      ],
      "text/plain": [
       "   order_id  user_id eval_set  order_number  order_dow  order_hour_of_day  \\\n",
       "0   2539329        1    prior             1          2                  8   \n",
       "1   2398795        1    prior             2          3                  7   \n",
       "2    473747        1    prior             3          3                 12   \n",
       "3   2254736        1    prior             4          4                  7   \n",
       "4    431534        1    prior             5          4                 15   \n",
       "\n",
       "   days_since_prior_order  \n",
       "0                     NaN  \n",
       "1                    15.0  \n",
       "2                    21.0  \n",
       "3                    29.0  \n",
       "4                    28.0  "
      ]
     },
     "execution_count": 3,
     "metadata": {},
     "output_type": "execute_result"
    }
   ],
   "source": [
    "orders_df.head()"
   ]
  },
  {
   "cell_type": "code",
   "execution_count": 4,
   "id": "897383db",
   "metadata": {},
   "outputs": [
    {
     "data": {
      "text/html": [
       "<div>\n",
       "<style scoped>\n",
       "    .dataframe tbody tr th:only-of-type {\n",
       "        vertical-align: middle;\n",
       "    }\n",
       "\n",
       "    .dataframe tbody tr th {\n",
       "        vertical-align: top;\n",
       "    }\n",
       "\n",
       "    .dataframe thead th {\n",
       "        text-align: right;\n",
       "    }\n",
       "</style>\n",
       "<table border=\"1\" class=\"dataframe\">\n",
       "  <thead>\n",
       "    <tr style=\"text-align: right;\">\n",
       "      <th></th>\n",
       "      <th>last_order_number</th>\n",
       "    </tr>\n",
       "    <tr>\n",
       "      <th>user_id</th>\n",
       "      <th></th>\n",
       "    </tr>\n",
       "  </thead>\n",
       "  <tbody>\n",
       "    <tr>\n",
       "      <th>127633</th>\n",
       "      <td>4</td>\n",
       "    </tr>\n",
       "    <tr>\n",
       "      <th>74147</th>\n",
       "      <td>4</td>\n",
       "    </tr>\n",
       "    <tr>\n",
       "      <th>160570</th>\n",
       "      <td>4</td>\n",
       "    </tr>\n",
       "    <tr>\n",
       "      <th>160560</th>\n",
       "      <td>4</td>\n",
       "    </tr>\n",
       "    <tr>\n",
       "      <th>74171</th>\n",
       "      <td>4</td>\n",
       "    </tr>\n",
       "    <tr>\n",
       "      <th>...</th>\n",
       "      <td>...</td>\n",
       "    </tr>\n",
       "    <tr>\n",
       "      <th>1868</th>\n",
       "      <td>100</td>\n",
       "    </tr>\n",
       "    <tr>\n",
       "      <th>31118</th>\n",
       "      <td>100</td>\n",
       "    </tr>\n",
       "    <tr>\n",
       "      <th>122476</th>\n",
       "      <td>100</td>\n",
       "    </tr>\n",
       "    <tr>\n",
       "      <th>120897</th>\n",
       "      <td>100</td>\n",
       "    </tr>\n",
       "    <tr>\n",
       "      <th>26086</th>\n",
       "      <td>100</td>\n",
       "    </tr>\n",
       "  </tbody>\n",
       "</table>\n",
       "<p>206209 rows × 1 columns</p>\n",
       "</div>"
      ],
      "text/plain": [
       "         last_order_number\n",
       "user_id                   \n",
       "127633                   4\n",
       "74147                    4\n",
       "160570                   4\n",
       "160560                   4\n",
       "74171                    4\n",
       "...                    ...\n",
       "1868                   100\n",
       "31118                  100\n",
       "122476                 100\n",
       "120897                 100\n",
       "26086                  100\n",
       "\n",
       "[206209 rows x 1 columns]"
      ]
     },
     "execution_count": 4,
     "metadata": {},
     "output_type": "execute_result"
    }
   ],
   "source": [
    "# the last_order_number is between 4~100\n",
    "orders_df.groupby([\"user_id\"]).agg(last_order_number=('order_number', 'max')).sort_values(\"last_order_number\")"
   ]
  },
  {
   "cell_type": "code",
   "execution_count": 5,
   "id": "d36c0c27",
   "metadata": {},
   "outputs": [],
   "source": [
    "last_orders_number_df = orders_df.groupby([\"user_id\"]).agg(last_order_number=('order_number', 'max')).reset_index()"
   ]
  },
  {
   "cell_type": "code",
   "execution_count": 6,
   "id": "1ff678bf",
   "metadata": {},
   "outputs": [],
   "source": [
    "# calculate second to last number\n",
    "last_orders_number_df['second_last_order_number'] = last_orders_number_df['last_order_number'] - 1 "
   ]
  },
  {
   "cell_type": "code",
   "execution_count": 7,
   "id": "685ccf38",
   "metadata": {},
   "outputs": [
    {
     "data": {
      "text/html": [
       "<div>\n",
       "<style scoped>\n",
       "    .dataframe tbody tr th:only-of-type {\n",
       "        vertical-align: middle;\n",
       "    }\n",
       "\n",
       "    .dataframe tbody tr th {\n",
       "        vertical-align: top;\n",
       "    }\n",
       "\n",
       "    .dataframe thead th {\n",
       "        text-align: right;\n",
       "    }\n",
       "</style>\n",
       "<table border=\"1\" class=\"dataframe\">\n",
       "  <thead>\n",
       "    <tr style=\"text-align: right;\">\n",
       "      <th></th>\n",
       "      <th>user_id</th>\n",
       "      <th>last_order_number</th>\n",
       "      <th>second_last_order_number</th>\n",
       "    </tr>\n",
       "  </thead>\n",
       "  <tbody>\n",
       "    <tr>\n",
       "      <th>127632</th>\n",
       "      <td>127633</td>\n",
       "      <td>4</td>\n",
       "      <td>3</td>\n",
       "    </tr>\n",
       "    <tr>\n",
       "      <th>74146</th>\n",
       "      <td>74147</td>\n",
       "      <td>4</td>\n",
       "      <td>3</td>\n",
       "    </tr>\n",
       "    <tr>\n",
       "      <th>160569</th>\n",
       "      <td>160570</td>\n",
       "      <td>4</td>\n",
       "      <td>3</td>\n",
       "    </tr>\n",
       "    <tr>\n",
       "      <th>160559</th>\n",
       "      <td>160560</td>\n",
       "      <td>4</td>\n",
       "      <td>3</td>\n",
       "    </tr>\n",
       "    <tr>\n",
       "      <th>74170</th>\n",
       "      <td>74171</td>\n",
       "      <td>4</td>\n",
       "      <td>3</td>\n",
       "    </tr>\n",
       "    <tr>\n",
       "      <th>...</th>\n",
       "      <td>...</td>\n",
       "      <td>...</td>\n",
       "      <td>...</td>\n",
       "    </tr>\n",
       "    <tr>\n",
       "      <th>1867</th>\n",
       "      <td>1868</td>\n",
       "      <td>100</td>\n",
       "      <td>99</td>\n",
       "    </tr>\n",
       "    <tr>\n",
       "      <th>31117</th>\n",
       "      <td>31118</td>\n",
       "      <td>100</td>\n",
       "      <td>99</td>\n",
       "    </tr>\n",
       "    <tr>\n",
       "      <th>122475</th>\n",
       "      <td>122476</td>\n",
       "      <td>100</td>\n",
       "      <td>99</td>\n",
       "    </tr>\n",
       "    <tr>\n",
       "      <th>120896</th>\n",
       "      <td>120897</td>\n",
       "      <td>100</td>\n",
       "      <td>99</td>\n",
       "    </tr>\n",
       "    <tr>\n",
       "      <th>26085</th>\n",
       "      <td>26086</td>\n",
       "      <td>100</td>\n",
       "      <td>99</td>\n",
       "    </tr>\n",
       "  </tbody>\n",
       "</table>\n",
       "<p>206209 rows × 3 columns</p>\n",
       "</div>"
      ],
      "text/plain": [
       "        user_id  last_order_number  second_last_order_number\n",
       "127632   127633                  4                         3\n",
       "74146     74147                  4                         3\n",
       "160569   160570                  4                         3\n",
       "160559   160560                  4                         3\n",
       "74170     74171                  4                         3\n",
       "...         ...                ...                       ...\n",
       "1867       1868                100                        99\n",
       "31117     31118                100                        99\n",
       "122475   122476                100                        99\n",
       "120896   120897                100                        99\n",
       "26085     26086                100                        99\n",
       "\n",
       "[206209 rows x 3 columns]"
      ]
     },
     "execution_count": 7,
     "metadata": {},
     "output_type": "execute_result"
    }
   ],
   "source": [
    "last_orders_number_df.sort_values('second_last_order_number')"
   ]
  },
  {
   "cell_type": "code",
   "execution_count": 8,
   "id": "1fca2d25",
   "metadata": {},
   "outputs": [],
   "source": [
    "# through merge, filter orders_df to contain only second_last_orders\n",
    "second_last_orders_df = orders_df.merge(last_orders_number_df, left_on=['user_id','order_number'], \n",
    "                right_on=['user_id','second_last_order_number'], how='inner')"
   ]
  },
  {
   "cell_type": "code",
   "execution_count": 9,
   "id": "18077a8b",
   "metadata": {},
   "outputs": [
    {
     "data": {
      "text/html": [
       "<div>\n",
       "<style scoped>\n",
       "    .dataframe tbody tr th:only-of-type {\n",
       "        vertical-align: middle;\n",
       "    }\n",
       "\n",
       "    .dataframe tbody tr th {\n",
       "        vertical-align: top;\n",
       "    }\n",
       "\n",
       "    .dataframe thead th {\n",
       "        text-align: right;\n",
       "    }\n",
       "</style>\n",
       "<table border=\"1\" class=\"dataframe\">\n",
       "  <thead>\n",
       "    <tr style=\"text-align: right;\">\n",
       "      <th></th>\n",
       "      <th>order_id</th>\n",
       "      <th>user_id</th>\n",
       "      <th>eval_set</th>\n",
       "      <th>order_number</th>\n",
       "      <th>order_dow</th>\n",
       "      <th>order_hour_of_day</th>\n",
       "      <th>days_since_prior_order</th>\n",
       "      <th>last_order_number</th>\n",
       "      <th>second_last_order_number</th>\n",
       "    </tr>\n",
       "  </thead>\n",
       "  <tbody>\n",
       "    <tr>\n",
       "      <th>0</th>\n",
       "      <td>2550362</td>\n",
       "      <td>1</td>\n",
       "      <td>prior</td>\n",
       "      <td>10</td>\n",
       "      <td>4</td>\n",
       "      <td>8</td>\n",
       "      <td>30.0</td>\n",
       "      <td>11</td>\n",
       "      <td>10</td>\n",
       "    </tr>\n",
       "    <tr>\n",
       "      <th>1</th>\n",
       "      <td>839880</td>\n",
       "      <td>2</td>\n",
       "      <td>prior</td>\n",
       "      <td>14</td>\n",
       "      <td>3</td>\n",
       "      <td>10</td>\n",
       "      <td>13.0</td>\n",
       "      <td>15</td>\n",
       "      <td>14</td>\n",
       "    </tr>\n",
       "    <tr>\n",
       "      <th>2</th>\n",
       "      <td>1402502</td>\n",
       "      <td>3</td>\n",
       "      <td>prior</td>\n",
       "      <td>12</td>\n",
       "      <td>1</td>\n",
       "      <td>15</td>\n",
       "      <td>15.0</td>\n",
       "      <td>13</td>\n",
       "      <td>12</td>\n",
       "    </tr>\n",
       "    <tr>\n",
       "      <th>3</th>\n",
       "      <td>2557754</td>\n",
       "      <td>4</td>\n",
       "      <td>prior</td>\n",
       "      <td>5</td>\n",
       "      <td>5</td>\n",
       "      <td>13</td>\n",
       "      <td>0.0</td>\n",
       "      <td>6</td>\n",
       "      <td>5</td>\n",
       "    </tr>\n",
       "    <tr>\n",
       "      <th>4</th>\n",
       "      <td>157374</td>\n",
       "      <td>5</td>\n",
       "      <td>prior</td>\n",
       "      <td>4</td>\n",
       "      <td>1</td>\n",
       "      <td>18</td>\n",
       "      <td>19.0</td>\n",
       "      <td>5</td>\n",
       "      <td>4</td>\n",
       "    </tr>\n",
       "    <tr>\n",
       "      <th>...</th>\n",
       "      <td>...</td>\n",
       "      <td>...</td>\n",
       "      <td>...</td>\n",
       "      <td>...</td>\n",
       "      <td>...</td>\n",
       "      <td>...</td>\n",
       "      <td>...</td>\n",
       "      <td>...</td>\n",
       "      <td>...</td>\n",
       "    </tr>\n",
       "    <tr>\n",
       "      <th>206204</th>\n",
       "      <td>414137</td>\n",
       "      <td>206205</td>\n",
       "      <td>prior</td>\n",
       "      <td>3</td>\n",
       "      <td>5</td>\n",
       "      <td>16</td>\n",
       "      <td>10.0</td>\n",
       "      <td>4</td>\n",
       "      <td>3</td>\n",
       "    </tr>\n",
       "    <tr>\n",
       "      <th>206205</th>\n",
       "      <td>1904200</td>\n",
       "      <td>206206</td>\n",
       "      <td>prior</td>\n",
       "      <td>67</td>\n",
       "      <td>0</td>\n",
       "      <td>13</td>\n",
       "      <td>11.0</td>\n",
       "      <td>68</td>\n",
       "      <td>67</td>\n",
       "    </tr>\n",
       "    <tr>\n",
       "      <th>206206</th>\n",
       "      <td>1005822</td>\n",
       "      <td>206207</td>\n",
       "      <td>prior</td>\n",
       "      <td>16</td>\n",
       "      <td>2</td>\n",
       "      <td>7</td>\n",
       "      <td>18.0</td>\n",
       "      <td>17</td>\n",
       "      <td>16</td>\n",
       "    </tr>\n",
       "    <tr>\n",
       "      <th>206207</th>\n",
       "      <td>1882108</td>\n",
       "      <td>206208</td>\n",
       "      <td>prior</td>\n",
       "      <td>49</td>\n",
       "      <td>1</td>\n",
       "      <td>22</td>\n",
       "      <td>7.0</td>\n",
       "      <td>50</td>\n",
       "      <td>49</td>\n",
       "    </tr>\n",
       "    <tr>\n",
       "      <th>206208</th>\n",
       "      <td>2977660</td>\n",
       "      <td>206209</td>\n",
       "      <td>prior</td>\n",
       "      <td>13</td>\n",
       "      <td>1</td>\n",
       "      <td>12</td>\n",
       "      <td>7.0</td>\n",
       "      <td>14</td>\n",
       "      <td>13</td>\n",
       "    </tr>\n",
       "  </tbody>\n",
       "</table>\n",
       "<p>206209 rows × 9 columns</p>\n",
       "</div>"
      ],
      "text/plain": [
       "        order_id  user_id eval_set  order_number  order_dow  \\\n",
       "0        2550362        1    prior            10          4   \n",
       "1         839880        2    prior            14          3   \n",
       "2        1402502        3    prior            12          1   \n",
       "3        2557754        4    prior             5          5   \n",
       "4         157374        5    prior             4          1   \n",
       "...          ...      ...      ...           ...        ...   \n",
       "206204    414137   206205    prior             3          5   \n",
       "206205   1904200   206206    prior            67          0   \n",
       "206206   1005822   206207    prior            16          2   \n",
       "206207   1882108   206208    prior            49          1   \n",
       "206208   2977660   206209    prior            13          1   \n",
       "\n",
       "        order_hour_of_day  days_since_prior_order  last_order_number  \\\n",
       "0                       8                    30.0                 11   \n",
       "1                      10                    13.0                 15   \n",
       "2                      15                    15.0                 13   \n",
       "3                      13                     0.0                  6   \n",
       "4                      18                    19.0                  5   \n",
       "...                   ...                     ...                ...   \n",
       "206204                 16                    10.0                  4   \n",
       "206205                 13                    11.0                 68   \n",
       "206206                  7                    18.0                 17   \n",
       "206207                 22                     7.0                 50   \n",
       "206208                 12                     7.0                 14   \n",
       "\n",
       "        second_last_order_number  \n",
       "0                             10  \n",
       "1                             14  \n",
       "2                             12  \n",
       "3                              5  \n",
       "4                              4  \n",
       "...                          ...  \n",
       "206204                         3  \n",
       "206205                        67  \n",
       "206206                        16  \n",
       "206207                        49  \n",
       "206208                        13  \n",
       "\n",
       "[206209 rows x 9 columns]"
      ]
     },
     "execution_count": 9,
     "metadata": {},
     "output_type": "execute_result"
    }
   ],
   "source": [
    "second_last_orders_df"
   ]
  },
  {
   "cell_type": "code",
   "execution_count": 10,
   "id": "62f8e102",
   "metadata": {},
   "outputs": [
    {
     "data": {
      "text/html": [
       "<div>\n",
       "<style scoped>\n",
       "    .dataframe tbody tr th:only-of-type {\n",
       "        vertical-align: middle;\n",
       "    }\n",
       "\n",
       "    .dataframe tbody tr th {\n",
       "        vertical-align: top;\n",
       "    }\n",
       "\n",
       "    .dataframe thead th {\n",
       "        text-align: right;\n",
       "    }\n",
       "</style>\n",
       "<table border=\"1\" class=\"dataframe\">\n",
       "  <thead>\n",
       "    <tr style=\"text-align: right;\">\n",
       "      <th></th>\n",
       "      <th>order_id</th>\n",
       "      <th>product_id</th>\n",
       "      <th>add_to_cart_order</th>\n",
       "      <th>reordered</th>\n",
       "    </tr>\n",
       "  </thead>\n",
       "  <tbody>\n",
       "    <tr>\n",
       "      <th>0</th>\n",
       "      <td>2</td>\n",
       "      <td>33120</td>\n",
       "      <td>1</td>\n",
       "      <td>1</td>\n",
       "    </tr>\n",
       "    <tr>\n",
       "      <th>1</th>\n",
       "      <td>2</td>\n",
       "      <td>28985</td>\n",
       "      <td>2</td>\n",
       "      <td>1</td>\n",
       "    </tr>\n",
       "    <tr>\n",
       "      <th>2</th>\n",
       "      <td>2</td>\n",
       "      <td>9327</td>\n",
       "      <td>3</td>\n",
       "      <td>0</td>\n",
       "    </tr>\n",
       "    <tr>\n",
       "      <th>3</th>\n",
       "      <td>2</td>\n",
       "      <td>45918</td>\n",
       "      <td>4</td>\n",
       "      <td>1</td>\n",
       "    </tr>\n",
       "    <tr>\n",
       "      <th>4</th>\n",
       "      <td>2</td>\n",
       "      <td>30035</td>\n",
       "      <td>5</td>\n",
       "      <td>0</td>\n",
       "    </tr>\n",
       "  </tbody>\n",
       "</table>\n",
       "</div>"
      ],
      "text/plain": [
       "   order_id  product_id  add_to_cart_order  reordered\n",
       "0         2       33120                  1          1\n",
       "1         2       28985                  2          1\n",
       "2         2        9327                  3          0\n",
       "3         2       45918                  4          1\n",
       "4         2       30035                  5          0"
      ]
     },
     "execution_count": 10,
     "metadata": {},
     "output_type": "execute_result"
    }
   ],
   "source": [
    "order_products_prior_df.head()"
   ]
  },
  {
   "cell_type": "code",
   "execution_count": 11,
   "id": "31078173",
   "metadata": {},
   "outputs": [
    {
     "data": {
      "text/plain": [
       "3214874"
      ]
     },
     "execution_count": 11,
     "metadata": {},
     "output_type": "execute_result"
    }
   ],
   "source": [
    "order_products_prior_df[\"order_id\"].nunique()"
   ]
  },
  {
   "cell_type": "markdown",
   "id": "2456ecac",
   "metadata": {},
   "source": [
    "32,434,488 products purchased with 3,214,874 orders"
   ]
  },
  {
   "cell_type": "code",
   "execution_count": 12,
   "id": "78f326e0",
   "metadata": {},
   "outputs": [
    {
     "name": "stdout",
     "output_type": "stream",
     "text": [
      "<class 'pandas.core.frame.DataFrame'>\n",
      "RangeIndex: 32434489 entries, 0 to 32434488\n",
      "Data columns (total 4 columns):\n",
      " #   Column             Dtype\n",
      "---  ------             -----\n",
      " 0   order_id           int64\n",
      " 1   product_id         int64\n",
      " 2   add_to_cart_order  int64\n",
      " 3   reordered          int64\n",
      "dtypes: int64(4)\n",
      "memory usage: 989.8 MB\n"
     ]
    }
   ],
   "source": [
    "order_products_prior_df.info()"
   ]
  },
  {
   "cell_type": "markdown",
   "id": "e3141db9",
   "metadata": {},
   "source": [
    "### find the products reordered in the second to last orders"
   ]
  },
  {
   "cell_type": "code",
   "execution_count": 13,
   "id": "cda6c454",
   "metadata": {},
   "outputs": [],
   "source": [
    "second_last_order_products_prior_df = order_products_prior_df.merge(second_last_orders_df, on='order_id', how='inner')"
   ]
  },
  {
   "cell_type": "code",
   "execution_count": 14,
   "id": "a1a76c43",
   "metadata": {},
   "outputs": [
    {
     "data": {
      "text/plain": [
       "206209"
      ]
     },
     "execution_count": 14,
     "metadata": {},
     "output_type": "execute_result"
    }
   ],
   "source": [
    "second_last_order_products_prior_df[\"order_id\"].nunique()"
   ]
  },
  {
   "cell_type": "code",
   "execution_count": 15,
   "id": "1e775d4f",
   "metadata": {},
   "outputs": [
    {
     "name": "stdout",
     "output_type": "stream",
     "text": [
      "<class 'pandas.core.frame.DataFrame'>\n",
      "Int64Index: 2139788 entries, 0 to 2139787\n",
      "Data columns (total 12 columns):\n",
      " #   Column                    Dtype  \n",
      "---  ------                    -----  \n",
      " 0   order_id                  int64  \n",
      " 1   product_id                int64  \n",
      " 2   add_to_cart_order         int64  \n",
      " 3   reordered                 int64  \n",
      " 4   user_id                   int64  \n",
      " 5   eval_set                  object \n",
      " 6   order_number              int64  \n",
      " 7   order_dow                 int64  \n",
      " 8   order_hour_of_day         int64  \n",
      " 9   days_since_prior_order    float64\n",
      " 10  last_order_number         int64  \n",
      " 11  second_last_order_number  int64  \n",
      "dtypes: float64(1), int64(10), object(1)\n",
      "memory usage: 212.2+ MB\n"
     ]
    }
   ],
   "source": [
    "second_last_order_products_prior_df.info()"
   ]
  },
  {
   "cell_type": "markdown",
   "id": "c4ee1cce",
   "metadata": {},
   "source": [
    "32,434,488 products purchased with 3,214,874 orders \\\n",
    "reduces to 2,139,787 products purchased with 206,209 orders"
   ]
  },
  {
   "cell_type": "code",
   "execution_count": 16,
   "id": "94befd97",
   "metadata": {},
   "outputs": [
    {
     "data": {
      "text/html": [
       "<div>\n",
       "<style scoped>\n",
       "    .dataframe tbody tr th:only-of-type {\n",
       "        vertical-align: middle;\n",
       "    }\n",
       "\n",
       "    .dataframe tbody tr th {\n",
       "        vertical-align: top;\n",
       "    }\n",
       "\n",
       "    .dataframe thead th {\n",
       "        text-align: right;\n",
       "    }\n",
       "</style>\n",
       "<table border=\"1\" class=\"dataframe\">\n",
       "  <thead>\n",
       "    <tr style=\"text-align: right;\">\n",
       "      <th></th>\n",
       "      <th>order_id</th>\n",
       "      <th>product_id</th>\n",
       "      <th>add_to_cart_order</th>\n",
       "      <th>reordered</th>\n",
       "      <th>user_id</th>\n",
       "      <th>eval_set</th>\n",
       "      <th>order_number</th>\n",
       "      <th>order_dow</th>\n",
       "      <th>order_hour_of_day</th>\n",
       "      <th>days_since_prior_order</th>\n",
       "      <th>last_order_number</th>\n",
       "      <th>second_last_order_number</th>\n",
       "    </tr>\n",
       "  </thead>\n",
       "  <tbody>\n",
       "    <tr>\n",
       "      <th>0</th>\n",
       "      <td>25</td>\n",
       "      <td>9755</td>\n",
       "      <td>1</td>\n",
       "      <td>1</td>\n",
       "      <td>59897</td>\n",
       "      <td>prior</td>\n",
       "      <td>19</td>\n",
       "      <td>6</td>\n",
       "      <td>10</td>\n",
       "      <td>25.0</td>\n",
       "      <td>20</td>\n",
       "      <td>19</td>\n",
       "    </tr>\n",
       "    <tr>\n",
       "      <th>1</th>\n",
       "      <td>25</td>\n",
       "      <td>31487</td>\n",
       "      <td>2</td>\n",
       "      <td>0</td>\n",
       "      <td>59897</td>\n",
       "      <td>prior</td>\n",
       "      <td>19</td>\n",
       "      <td>6</td>\n",
       "      <td>10</td>\n",
       "      <td>25.0</td>\n",
       "      <td>20</td>\n",
       "      <td>19</td>\n",
       "    </tr>\n",
       "    <tr>\n",
       "      <th>2</th>\n",
       "      <td>25</td>\n",
       "      <td>37510</td>\n",
       "      <td>3</td>\n",
       "      <td>1</td>\n",
       "      <td>59897</td>\n",
       "      <td>prior</td>\n",
       "      <td>19</td>\n",
       "      <td>6</td>\n",
       "      <td>10</td>\n",
       "      <td>25.0</td>\n",
       "      <td>20</td>\n",
       "      <td>19</td>\n",
       "    </tr>\n",
       "    <tr>\n",
       "      <th>3</th>\n",
       "      <td>25</td>\n",
       "      <td>14576</td>\n",
       "      <td>4</td>\n",
       "      <td>1</td>\n",
       "      <td>59897</td>\n",
       "      <td>prior</td>\n",
       "      <td>19</td>\n",
       "      <td>6</td>\n",
       "      <td>10</td>\n",
       "      <td>25.0</td>\n",
       "      <td>20</td>\n",
       "      <td>19</td>\n",
       "    </tr>\n",
       "    <tr>\n",
       "      <th>4</th>\n",
       "      <td>25</td>\n",
       "      <td>22105</td>\n",
       "      <td>5</td>\n",
       "      <td>0</td>\n",
       "      <td>59897</td>\n",
       "      <td>prior</td>\n",
       "      <td>19</td>\n",
       "      <td>6</td>\n",
       "      <td>10</td>\n",
       "      <td>25.0</td>\n",
       "      <td>20</td>\n",
       "      <td>19</td>\n",
       "    </tr>\n",
       "  </tbody>\n",
       "</table>\n",
       "</div>"
      ],
      "text/plain": [
       "   order_id  product_id  add_to_cart_order  reordered  user_id eval_set  \\\n",
       "0        25        9755                  1          1    59897    prior   \n",
       "1        25       31487                  2          0    59897    prior   \n",
       "2        25       37510                  3          1    59897    prior   \n",
       "3        25       14576                  4          1    59897    prior   \n",
       "4        25       22105                  5          0    59897    prior   \n",
       "\n",
       "   order_number  order_dow  order_hour_of_day  days_since_prior_order  \\\n",
       "0            19          6                 10                    25.0   \n",
       "1            19          6                 10                    25.0   \n",
       "2            19          6                 10                    25.0   \n",
       "3            19          6                 10                    25.0   \n",
       "4            19          6                 10                    25.0   \n",
       "\n",
       "   last_order_number  second_last_order_number  \n",
       "0                 20                        19  \n",
       "1                 20                        19  \n",
       "2                 20                        19  \n",
       "3                 20                        19  \n",
       "4                 20                        19  "
      ]
     },
     "execution_count": 16,
     "metadata": {},
     "output_type": "execute_result"
    }
   ],
   "source": [
    "second_last_order_products_prior_df.head()"
   ]
  },
  {
   "cell_type": "code",
   "execution_count": 17,
   "id": "f4360d6a",
   "metadata": {},
   "outputs": [],
   "source": [
    "# generate the predictions\n",
    "predict = second_last_order_products_prior_df[second_last_order_products_prior_df['reordered']==1]"
   ]
  },
  {
   "cell_type": "code",
   "execution_count": 18,
   "id": "d24fc859",
   "metadata": {
    "scrolled": true
   },
   "outputs": [
    {
     "data": {
      "text/html": [
       "<div>\n",
       "<style scoped>\n",
       "    .dataframe tbody tr th:only-of-type {\n",
       "        vertical-align: middle;\n",
       "    }\n",
       "\n",
       "    .dataframe tbody tr th {\n",
       "        vertical-align: top;\n",
       "    }\n",
       "\n",
       "    .dataframe thead th {\n",
       "        text-align: right;\n",
       "    }\n",
       "</style>\n",
       "<table border=\"1\" class=\"dataframe\">\n",
       "  <thead>\n",
       "    <tr style=\"text-align: right;\">\n",
       "      <th></th>\n",
       "      <th>order_id</th>\n",
       "      <th>product_id</th>\n",
       "      <th>add_to_cart_order</th>\n",
       "      <th>reordered</th>\n",
       "    </tr>\n",
       "  </thead>\n",
       "  <tbody>\n",
       "    <tr>\n",
       "      <th>0</th>\n",
       "      <td>1</td>\n",
       "      <td>49302</td>\n",
       "      <td>1</td>\n",
       "      <td>1</td>\n",
       "    </tr>\n",
       "    <tr>\n",
       "      <th>1</th>\n",
       "      <td>1</td>\n",
       "      <td>11109</td>\n",
       "      <td>2</td>\n",
       "      <td>1</td>\n",
       "    </tr>\n",
       "    <tr>\n",
       "      <th>2</th>\n",
       "      <td>1</td>\n",
       "      <td>10246</td>\n",
       "      <td>3</td>\n",
       "      <td>0</td>\n",
       "    </tr>\n",
       "    <tr>\n",
       "      <th>3</th>\n",
       "      <td>1</td>\n",
       "      <td>49683</td>\n",
       "      <td>4</td>\n",
       "      <td>0</td>\n",
       "    </tr>\n",
       "    <tr>\n",
       "      <th>4</th>\n",
       "      <td>1</td>\n",
       "      <td>43633</td>\n",
       "      <td>5</td>\n",
       "      <td>1</td>\n",
       "    </tr>\n",
       "  </tbody>\n",
       "</table>\n",
       "</div>"
      ],
      "text/plain": [
       "   order_id  product_id  add_to_cart_order  reordered\n",
       "0         1       49302                  1          1\n",
       "1         1       11109                  2          1\n",
       "2         1       10246                  3          0\n",
       "3         1       49683                  4          0\n",
       "4         1       43633                  5          1"
      ]
     },
     "execution_count": 18,
     "metadata": {},
     "output_type": "execute_result"
    }
   ],
   "source": [
    "order_products_train_df.head()"
   ]
  },
  {
   "cell_type": "code",
   "execution_count": 19,
   "id": "1612feef",
   "metadata": {},
   "outputs": [],
   "source": [
    "order_products_train_df = order_products_train_df.merge(orders_df, on =\"order_id\", how =\"left\")"
   ]
  },
  {
   "cell_type": "code",
   "execution_count": 20,
   "id": "5970a52a",
   "metadata": {},
   "outputs": [
    {
     "data": {
      "text/plain": [
       "0.5985944127509629"
      ]
     },
     "execution_count": 20,
     "metadata": {},
     "output_type": "execute_result"
    }
   ],
   "source": [
    "# about 60 % in the training are reordered\n",
    "order_products_train_df[order_products_train_df['reordered']==1].shape[0] / order_products_train_df.shape[0]"
   ]
  },
  {
   "cell_type": "code",
   "execution_count": 21,
   "id": "1bdded5a",
   "metadata": {},
   "outputs": [
    {
     "name": "stdout",
     "output_type": "stream",
     "text": [
      "<class 'pandas.core.frame.DataFrame'>\n",
      "Int64Index: 1254593 entries, 0 to 2139781\n",
      "Data columns (total 12 columns):\n",
      " #   Column                    Non-Null Count    Dtype  \n",
      "---  ------                    --------------    -----  \n",
      " 0   order_id                  1254593 non-null  int64  \n",
      " 1   product_id                1254593 non-null  int64  \n",
      " 2   add_to_cart_order         1254593 non-null  int64  \n",
      " 3   reordered                 1254593 non-null  int64  \n",
      " 4   user_id                   1254593 non-null  int64  \n",
      " 5   eval_set                  1254593 non-null  object \n",
      " 6   order_number              1254593 non-null  int64  \n",
      " 7   order_dow                 1254593 non-null  int64  \n",
      " 8   order_hour_of_day         1254593 non-null  int64  \n",
      " 9   days_since_prior_order    1254593 non-null  float64\n",
      " 10  last_order_number         1254593 non-null  int64  \n",
      " 11  second_last_order_number  1254593 non-null  int64  \n",
      "dtypes: float64(1), int64(10), object(1)\n",
      "memory usage: 124.4+ MB\n"
     ]
    }
   ],
   "source": [
    "predict.info()"
   ]
  },
  {
   "cell_type": "code",
   "execution_count": 22,
   "id": "4412bd2f",
   "metadata": {},
   "outputs": [
    {
     "data": {
      "text/html": [
       "<div>\n",
       "<style scoped>\n",
       "    .dataframe tbody tr th:only-of-type {\n",
       "        vertical-align: middle;\n",
       "    }\n",
       "\n",
       "    .dataframe tbody tr th {\n",
       "        vertical-align: top;\n",
       "    }\n",
       "\n",
       "    .dataframe thead th {\n",
       "        text-align: right;\n",
       "    }\n",
       "</style>\n",
       "<table border=\"1\" class=\"dataframe\">\n",
       "  <thead>\n",
       "    <tr style=\"text-align: right;\">\n",
       "      <th></th>\n",
       "      <th>order_id</th>\n",
       "      <th>product_id</th>\n",
       "      <th>add_to_cart_order</th>\n",
       "      <th>reordered</th>\n",
       "      <th>user_id</th>\n",
       "      <th>eval_set</th>\n",
       "      <th>order_number</th>\n",
       "      <th>order_dow</th>\n",
       "      <th>order_hour_of_day</th>\n",
       "      <th>days_since_prior_order</th>\n",
       "      <th>last_order_number</th>\n",
       "      <th>second_last_order_number</th>\n",
       "    </tr>\n",
       "  </thead>\n",
       "  <tbody>\n",
       "    <tr>\n",
       "      <th>0</th>\n",
       "      <td>25</td>\n",
       "      <td>9755</td>\n",
       "      <td>1</td>\n",
       "      <td>1</td>\n",
       "      <td>59897</td>\n",
       "      <td>prior</td>\n",
       "      <td>19</td>\n",
       "      <td>6</td>\n",
       "      <td>10</td>\n",
       "      <td>25.0</td>\n",
       "      <td>20</td>\n",
       "      <td>19</td>\n",
       "    </tr>\n",
       "    <tr>\n",
       "      <th>2</th>\n",
       "      <td>25</td>\n",
       "      <td>37510</td>\n",
       "      <td>3</td>\n",
       "      <td>1</td>\n",
       "      <td>59897</td>\n",
       "      <td>prior</td>\n",
       "      <td>19</td>\n",
       "      <td>6</td>\n",
       "      <td>10</td>\n",
       "      <td>25.0</td>\n",
       "      <td>20</td>\n",
       "      <td>19</td>\n",
       "    </tr>\n",
       "    <tr>\n",
       "      <th>3</th>\n",
       "      <td>25</td>\n",
       "      <td>14576</td>\n",
       "      <td>4</td>\n",
       "      <td>1</td>\n",
       "      <td>59897</td>\n",
       "      <td>prior</td>\n",
       "      <td>19</td>\n",
       "      <td>6</td>\n",
       "      <td>10</td>\n",
       "      <td>25.0</td>\n",
       "      <td>20</td>\n",
       "      <td>19</td>\n",
       "    </tr>\n",
       "    <tr>\n",
       "      <th>5</th>\n",
       "      <td>25</td>\n",
       "      <td>1934</td>\n",
       "      <td>6</td>\n",
       "      <td>1</td>\n",
       "      <td>59897</td>\n",
       "      <td>prior</td>\n",
       "      <td>19</td>\n",
       "      <td>6</td>\n",
       "      <td>10</td>\n",
       "      <td>25.0</td>\n",
       "      <td>20</td>\n",
       "      <td>19</td>\n",
       "    </tr>\n",
       "    <tr>\n",
       "      <th>6</th>\n",
       "      <td>25</td>\n",
       "      <td>6383</td>\n",
       "      <td>7</td>\n",
       "      <td>1</td>\n",
       "      <td>59897</td>\n",
       "      <td>prior</td>\n",
       "      <td>19</td>\n",
       "      <td>6</td>\n",
       "      <td>10</td>\n",
       "      <td>25.0</td>\n",
       "      <td>20</td>\n",
       "      <td>19</td>\n",
       "    </tr>\n",
       "  </tbody>\n",
       "</table>\n",
       "</div>"
      ],
      "text/plain": [
       "   order_id  product_id  add_to_cart_order  reordered  user_id eval_set  \\\n",
       "0        25        9755                  1          1    59897    prior   \n",
       "2        25       37510                  3          1    59897    prior   \n",
       "3        25       14576                  4          1    59897    prior   \n",
       "5        25        1934                  6          1    59897    prior   \n",
       "6        25        6383                  7          1    59897    prior   \n",
       "\n",
       "   order_number  order_dow  order_hour_of_day  days_since_prior_order  \\\n",
       "0            19          6                 10                    25.0   \n",
       "2            19          6                 10                    25.0   \n",
       "3            19          6                 10                    25.0   \n",
       "5            19          6                 10                    25.0   \n",
       "6            19          6                 10                    25.0   \n",
       "\n",
       "   last_order_number  second_last_order_number  \n",
       "0                 20                        19  \n",
       "2                 20                        19  \n",
       "3                 20                        19  \n",
       "5                 20                        19  \n",
       "6                 20                        19  "
      ]
     },
     "execution_count": 22,
     "metadata": {},
     "output_type": "execute_result"
    }
   ],
   "source": [
    "predict.head()"
   ]
  },
  {
   "cell_type": "code",
   "execution_count": 23,
   "id": "d8daa824",
   "metadata": {},
   "outputs": [
    {
     "name": "stdout",
     "output_type": "stream",
     "text": [
      "<class 'pandas.core.frame.DataFrame'>\n",
      "Int64Index: 1384617 entries, 0 to 1384616\n",
      "Data columns (total 10 columns):\n",
      " #   Column                  Non-Null Count    Dtype  \n",
      "---  ------                  --------------    -----  \n",
      " 0   order_id                1384617 non-null  int64  \n",
      " 1   product_id              1384617 non-null  int64  \n",
      " 2   add_to_cart_order       1384617 non-null  int64  \n",
      " 3   reordered               1384617 non-null  int64  \n",
      " 4   user_id                 1384617 non-null  int64  \n",
      " 5   eval_set                1384617 non-null  object \n",
      " 6   order_number            1384617 non-null  int64  \n",
      " 7   order_dow               1384617 non-null  int64  \n",
      " 8   order_hour_of_day       1384617 non-null  int64  \n",
      " 9   days_since_prior_order  1384617 non-null  float64\n",
      "dtypes: float64(1), int64(8), object(1)\n",
      "memory usage: 116.2+ MB\n"
     ]
    }
   ],
   "source": [
    "order_products_train_df.info()"
   ]
  },
  {
   "cell_type": "code",
   "execution_count": 24,
   "id": "0f0f023f",
   "metadata": {},
   "outputs": [
    {
     "data": {
      "text/plain": [
       "131209"
      ]
     },
     "execution_count": 24,
     "metadata": {},
     "output_type": "execute_result"
    }
   ],
   "source": [
    "order_products_train_df['user_id'].nunique()"
   ]
  },
  {
   "cell_type": "code",
   "execution_count": 25,
   "id": "00ecef40",
   "metadata": {},
   "outputs": [
    {
     "data": {
      "text/plain": [
       "191624"
      ]
     },
     "execution_count": 25,
     "metadata": {},
     "output_type": "execute_result"
    }
   ],
   "source": [
    "predict['user_id'].nunique()"
   ]
  },
  {
   "cell_type": "code",
   "execution_count": 26,
   "id": "785a7d29",
   "metadata": {},
   "outputs": [],
   "source": [
    "predict = predict[[\"user_id\",\"product_id\",\"second_last_order_number\"]]"
   ]
  },
  {
   "cell_type": "code",
   "execution_count": 27,
   "id": "d7747205",
   "metadata": {},
   "outputs": [],
   "source": [
    "# filter user_id to the ones in the train df\n",
    "predict = predict[predict['user_id'].isin(order_products_train_df['user_id'])]"
   ]
  },
  {
   "cell_type": "code",
   "execution_count": 28,
   "id": "8239e501",
   "metadata": {},
   "outputs": [
    {
     "data": {
      "text/plain": [
       "121861"
      ]
     },
     "execution_count": 28,
     "metadata": {},
     "output_type": "execute_result"
    }
   ],
   "source": [
    "predict['user_id'].nunique()"
   ]
  },
  {
   "cell_type": "markdown",
   "id": "b4a7d66d",
   "metadata": {},
   "source": [
    "We have a lot more people in the predict data set than in the train data set before. After the filter, the unique user_ids is smaller than train. \\\n",
    "Note: for those not predicted, we predict NONE in theory. This edge case will be handled later"
   ]
  },
  {
   "cell_type": "code",
   "execution_count": 29,
   "id": "97548753",
   "metadata": {},
   "outputs": [],
   "source": [
    "result = order_products_train_df.merge(predict, on=[\"user_id\",\"product_id\"], how=\"outer\")"
   ]
  },
  {
   "cell_type": "code",
   "execution_count": 30,
   "id": "b9483274",
   "metadata": {},
   "outputs": [
    {
     "name": "stdout",
     "output_type": "stream",
     "text": [
      "<class 'pandas.core.frame.DataFrame'>\n",
      "Int64Index: 1878367 entries, 0 to 1878366\n",
      "Data columns (total 11 columns):\n",
      " #   Column                    Dtype  \n",
      "---  ------                    -----  \n",
      " 0   order_id                  float64\n",
      " 1   product_id                int64  \n",
      " 2   add_to_cart_order         float64\n",
      " 3   reordered                 float64\n",
      " 4   user_id                   int64  \n",
      " 5   eval_set                  object \n",
      " 6   order_number              float64\n",
      " 7   order_dow                 float64\n",
      " 8   order_hour_of_day         float64\n",
      " 9   days_since_prior_order    float64\n",
      " 10  second_last_order_number  float64\n",
      "dtypes: float64(8), int64(2), object(1)\n",
      "memory usage: 172.0+ MB\n"
     ]
    }
   ],
   "source": [
    "result.info()"
   ]
  },
  {
   "cell_type": "code",
   "execution_count": 31,
   "id": "136a066b",
   "metadata": {},
   "outputs": [
    {
     "data": {
      "text/html": [
       "<div>\n",
       "<style scoped>\n",
       "    .dataframe tbody tr th:only-of-type {\n",
       "        vertical-align: middle;\n",
       "    }\n",
       "\n",
       "    .dataframe tbody tr th {\n",
       "        vertical-align: top;\n",
       "    }\n",
       "\n",
       "    .dataframe thead th {\n",
       "        text-align: right;\n",
       "    }\n",
       "</style>\n",
       "<table border=\"1\" class=\"dataframe\">\n",
       "  <thead>\n",
       "    <tr style=\"text-align: right;\">\n",
       "      <th></th>\n",
       "      <th>order_id</th>\n",
       "      <th>product_id</th>\n",
       "      <th>add_to_cart_order</th>\n",
       "      <th>reordered</th>\n",
       "      <th>user_id</th>\n",
       "      <th>eval_set</th>\n",
       "      <th>order_number</th>\n",
       "      <th>order_dow</th>\n",
       "      <th>order_hour_of_day</th>\n",
       "      <th>days_since_prior_order</th>\n",
       "      <th>second_last_order_number</th>\n",
       "    </tr>\n",
       "  </thead>\n",
       "  <tbody>\n",
       "    <tr>\n",
       "      <th>218009</th>\n",
       "      <td>533840.0</td>\n",
       "      <td>25931</td>\n",
       "      <td>7.0</td>\n",
       "      <td>1.0</td>\n",
       "      <td>129736</td>\n",
       "      <td>train</td>\n",
       "      <td>5.0</td>\n",
       "      <td>0.0</td>\n",
       "      <td>11.0</td>\n",
       "      <td>23.0</td>\n",
       "      <td>4.0</td>\n",
       "    </tr>\n",
       "    <tr>\n",
       "      <th>1454661</th>\n",
       "      <td>NaN</td>\n",
       "      <td>46979</td>\n",
       "      <td>NaN</td>\n",
       "      <td>NaN</td>\n",
       "      <td>125688</td>\n",
       "      <td>NaN</td>\n",
       "      <td>NaN</td>\n",
       "      <td>NaN</td>\n",
       "      <td>NaN</td>\n",
       "      <td>NaN</td>\n",
       "      <td>13.0</td>\n",
       "    </tr>\n",
       "    <tr>\n",
       "      <th>95691</th>\n",
       "      <td>237369.0</td>\n",
       "      <td>42342</td>\n",
       "      <td>6.0</td>\n",
       "      <td>0.0</td>\n",
       "      <td>29728</td>\n",
       "      <td>train</td>\n",
       "      <td>4.0</td>\n",
       "      <td>6.0</td>\n",
       "      <td>14.0</td>\n",
       "      <td>2.0</td>\n",
       "      <td>NaN</td>\n",
       "    </tr>\n",
       "    <tr>\n",
       "      <th>952127</th>\n",
       "      <td>2348624.0</td>\n",
       "      <td>6878</td>\n",
       "      <td>2.0</td>\n",
       "      <td>1.0</td>\n",
       "      <td>21086</td>\n",
       "      <td>train</td>\n",
       "      <td>13.0</td>\n",
       "      <td>4.0</td>\n",
       "      <td>20.0</td>\n",
       "      <td>9.0</td>\n",
       "      <td>12.0</td>\n",
       "    </tr>\n",
       "    <tr>\n",
       "      <th>610917</th>\n",
       "      <td>1503135.0</td>\n",
       "      <td>31066</td>\n",
       "      <td>4.0</td>\n",
       "      <td>1.0</td>\n",
       "      <td>1209</td>\n",
       "      <td>train</td>\n",
       "      <td>9.0</td>\n",
       "      <td>6.0</td>\n",
       "      <td>19.0</td>\n",
       "      <td>18.0</td>\n",
       "      <td>NaN</td>\n",
       "    </tr>\n",
       "  </tbody>\n",
       "</table>\n",
       "</div>"
      ],
      "text/plain": [
       "          order_id  product_id  add_to_cart_order  reordered  user_id  \\\n",
       "218009    533840.0       25931                7.0        1.0   129736   \n",
       "1454661        NaN       46979                NaN        NaN   125688   \n",
       "95691     237369.0       42342                6.0        0.0    29728   \n",
       "952127   2348624.0        6878                2.0        1.0    21086   \n",
       "610917   1503135.0       31066                4.0        1.0     1209   \n",
       "\n",
       "        eval_set  order_number  order_dow  order_hour_of_day  \\\n",
       "218009     train           5.0        0.0               11.0   \n",
       "1454661      NaN           NaN        NaN                NaN   \n",
       "95691      train           4.0        6.0               14.0   \n",
       "952127     train          13.0        4.0               20.0   \n",
       "610917     train           9.0        6.0               19.0   \n",
       "\n",
       "         days_since_prior_order  second_last_order_number  \n",
       "218009                     23.0                       4.0  \n",
       "1454661                     NaN                      13.0  \n",
       "95691                       2.0                       NaN  \n",
       "952127                      9.0                      12.0  \n",
       "610917                     18.0                       NaN  "
      ]
     },
     "execution_count": 31,
     "metadata": {},
     "output_type": "execute_result"
    }
   ],
   "source": [
    "result.sample(5)"
   ]
  },
  {
   "cell_type": "markdown",
   "id": "1d140dd0",
   "metadata": {},
   "source": [
    "### calculate true positive, true negative, false positive, false positive\n",
    "precision = true positive/ (true positive + false positive) \\\n",
    "recall = true positive/ (true positive + false negative) \\\n",
    "F1 score = 2/ (1/precision + 1/recall)"
   ]
  },
  {
   "cell_type": "code",
   "execution_count": 32,
   "id": "013198b4",
   "metadata": {},
   "outputs": [
    {
     "data": {
      "text/plain": [
       "1878367"
      ]
     },
     "execution_count": 32,
     "metadata": {},
     "output_type": "execute_result"
    }
   ],
   "source": [
    "result.shape[0]"
   ]
  },
  {
   "cell_type": "code",
   "execution_count": 33,
   "id": "7ea1dc11",
   "metadata": {},
   "outputs": [],
   "source": [
    "result.loc[result[\"order_id\"].notnull() & result[\"second_last_order_number\"].notnull(), \"tp\"] = 1"
   ]
  },
  {
   "cell_type": "code",
   "execution_count": 34,
   "id": "a9bf5c60",
   "metadata": {},
   "outputs": [],
   "source": [
    "result.loc[result[\"order_id\"].isnull() & result[\"second_last_order_number\"].isnull(), \"tn\"] = 1"
   ]
  },
  {
   "cell_type": "code",
   "execution_count": 35,
   "id": "dcaeda1d",
   "metadata": {},
   "outputs": [],
   "source": [
    "result.loc[result[\"order_id\"].isnull() & result[\"second_last_order_number\"].notnull(), \"fp\"] = 1"
   ]
  },
  {
   "cell_type": "code",
   "execution_count": 36,
   "id": "d3921100",
   "metadata": {},
   "outputs": [],
   "source": [
    "result.loc[result[\"order_id\"].notnull() & result[\"second_last_order_number\"].isnull(), \"fn\"] = 1"
   ]
  },
  {
   "cell_type": "code",
   "execution_count": 37,
   "id": "a61a7d76",
   "metadata": {},
   "outputs": [],
   "source": [
    "result['tp'] = result['tp'].fillna(0)\n",
    "result['tn'] = result['tn'].fillna(0)\n",
    "result['fp'] = result['fp'].fillna(0)\n",
    "result['fn'] = result['fn'].fillna(0)"
   ]
  },
  {
   "cell_type": "code",
   "execution_count": 38,
   "id": "7708ba35",
   "metadata": {},
   "outputs": [],
   "source": [
    "# this is to correct the cases that we don't have none in our data\n",
    "result.loc[(result[\"tn\"]==0) & (result[\"tp\"]==0) & (result[\"fp\"]==0), \"fp\"] = 1"
   ]
  },
  {
   "cell_type": "code",
   "execution_count": 39,
   "id": "d0b5a36c",
   "metadata": {},
   "outputs": [
    {
     "name": "stderr",
     "output_type": "stream",
     "text": [
      "/var/folders/32/_lk9s_9n7pggt5bls7z52jk00000gn/T/ipykernel_90477/1976579316.py:1: FutureWarning: Indexing with multiple keys (implicitly converted to a tuple of keys) will be deprecated, use a list instead.\n",
      "  result_user = result.groupby([\"user_id\"])[\"tp\",\"tn\",\"fp\",\"fn\"].sum().reset_index()\n"
     ]
    }
   ],
   "source": [
    "result_user = result.groupby([\"user_id\"])[\"tp\",\"tn\",\"fp\",\"fn\"].sum().reset_index()"
   ]
  },
  {
   "cell_type": "code",
   "execution_count": 40,
   "id": "e24741f0",
   "metadata": {
    "scrolled": true
   },
   "outputs": [
    {
     "data": {
      "text/html": [
       "<div>\n",
       "<style scoped>\n",
       "    .dataframe tbody tr th:only-of-type {\n",
       "        vertical-align: middle;\n",
       "    }\n",
       "\n",
       "    .dataframe tbody tr th {\n",
       "        vertical-align: top;\n",
       "    }\n",
       "\n",
       "    .dataframe thead th {\n",
       "        text-align: right;\n",
       "    }\n",
       "</style>\n",
       "<table border=\"1\" class=\"dataframe\">\n",
       "  <thead>\n",
       "    <tr style=\"text-align: right;\">\n",
       "      <th></th>\n",
       "      <th>user_id</th>\n",
       "      <th>tp</th>\n",
       "      <th>tn</th>\n",
       "      <th>fp</th>\n",
       "      <th>fn</th>\n",
       "    </tr>\n",
       "  </thead>\n",
       "  <tbody>\n",
       "    <tr>\n",
       "      <th>0</th>\n",
       "      <td>1</td>\n",
       "      <td>5.0</td>\n",
       "      <td>0.0</td>\n",
       "      <td>7.0</td>\n",
       "      <td>6.0</td>\n",
       "    </tr>\n",
       "    <tr>\n",
       "      <th>1</th>\n",
       "      <td>2</td>\n",
       "      <td>2.0</td>\n",
       "      <td>0.0</td>\n",
       "      <td>37.0</td>\n",
       "      <td>29.0</td>\n",
       "    </tr>\n",
       "    <tr>\n",
       "      <th>2</th>\n",
       "      <td>5</td>\n",
       "      <td>2.0</td>\n",
       "      <td>0.0</td>\n",
       "      <td>13.0</td>\n",
       "      <td>7.0</td>\n",
       "    </tr>\n",
       "    <tr>\n",
       "      <th>3</th>\n",
       "      <td>7</td>\n",
       "      <td>3.0</td>\n",
       "      <td>0.0</td>\n",
       "      <td>15.0</td>\n",
       "      <td>6.0</td>\n",
       "    </tr>\n",
       "    <tr>\n",
       "      <th>4</th>\n",
       "      <td>8</td>\n",
       "      <td>1.0</td>\n",
       "      <td>0.0</td>\n",
       "      <td>21.0</td>\n",
       "      <td>17.0</td>\n",
       "    </tr>\n",
       "  </tbody>\n",
       "</table>\n",
       "</div>"
      ],
      "text/plain": [
       "   user_id   tp   tn    fp    fn\n",
       "0        1  5.0  0.0   7.0   6.0\n",
       "1        2  2.0  0.0  37.0  29.0\n",
       "2        5  2.0  0.0  13.0   7.0\n",
       "3        7  3.0  0.0  15.0   6.0\n",
       "4        8  1.0  0.0  21.0  17.0"
      ]
     },
     "execution_count": 40,
     "metadata": {},
     "output_type": "execute_result"
    }
   ],
   "source": [
    "result_user.head()"
   ]
  },
  {
   "cell_type": "code",
   "execution_count": 41,
   "id": "ffe1df71",
   "metadata": {},
   "outputs": [],
   "source": [
    "result_user['precision'] = result_user[\"tp\"] / (result_user[\"tp\"] + result_user[\"fp\"])"
   ]
  },
  {
   "cell_type": "code",
   "execution_count": 42,
   "id": "1ba4e6fc",
   "metadata": {},
   "outputs": [],
   "source": [
    "result_user['recall'] = result_user[\"tp\"] / (result_user[\"tp\"] + result_user[\"fn\"])"
   ]
  },
  {
   "cell_type": "code",
   "execution_count": 43,
   "id": "e84f90ca",
   "metadata": {},
   "outputs": [],
   "source": [
    "result_user['f1'] = 2/ (1/result_user['precision'] + 1/result_user['recall'])"
   ]
  },
  {
   "cell_type": "code",
   "execution_count": 44,
   "id": "1ecb1327",
   "metadata": {},
   "outputs": [
    {
     "data": {
      "text/html": [
       "<div>\n",
       "<style scoped>\n",
       "    .dataframe tbody tr th:only-of-type {\n",
       "        vertical-align: middle;\n",
       "    }\n",
       "\n",
       "    .dataframe tbody tr th {\n",
       "        vertical-align: top;\n",
       "    }\n",
       "\n",
       "    .dataframe thead th {\n",
       "        text-align: right;\n",
       "    }\n",
       "</style>\n",
       "<table border=\"1\" class=\"dataframe\">\n",
       "  <thead>\n",
       "    <tr style=\"text-align: right;\">\n",
       "      <th></th>\n",
       "      <th>user_id</th>\n",
       "      <th>tp</th>\n",
       "      <th>tn</th>\n",
       "      <th>fp</th>\n",
       "      <th>fn</th>\n",
       "      <th>precision</th>\n",
       "      <th>recall</th>\n",
       "      <th>f1</th>\n",
       "    </tr>\n",
       "  </thead>\n",
       "  <tbody>\n",
       "    <tr>\n",
       "      <th>65604</th>\n",
       "      <td>103150</td>\n",
       "      <td>0.0</td>\n",
       "      <td>0.0</td>\n",
       "      <td>5.0</td>\n",
       "      <td>5.0</td>\n",
       "      <td>0.0</td>\n",
       "      <td>0.0</td>\n",
       "      <td>0.0</td>\n",
       "    </tr>\n",
       "    <tr>\n",
       "      <th>57176</th>\n",
       "      <td>89841</td>\n",
       "      <td>0.0</td>\n",
       "      <td>0.0</td>\n",
       "      <td>6.0</td>\n",
       "      <td>6.0</td>\n",
       "      <td>0.0</td>\n",
       "      <td>0.0</td>\n",
       "      <td>0.0</td>\n",
       "    </tr>\n",
       "    <tr>\n",
       "      <th>57175</th>\n",
       "      <td>89840</td>\n",
       "      <td>0.0</td>\n",
       "      <td>0.0</td>\n",
       "      <td>11.0</td>\n",
       "      <td>10.0</td>\n",
       "      <td>0.0</td>\n",
       "      <td>0.0</td>\n",
       "      <td>0.0</td>\n",
       "    </tr>\n",
       "    <tr>\n",
       "      <th>57174</th>\n",
       "      <td>89837</td>\n",
       "      <td>0.0</td>\n",
       "      <td>0.0</td>\n",
       "      <td>4.0</td>\n",
       "      <td>1.0</td>\n",
       "      <td>0.0</td>\n",
       "      <td>0.0</td>\n",
       "      <td>0.0</td>\n",
       "    </tr>\n",
       "    <tr>\n",
       "      <th>57171</th>\n",
       "      <td>89833</td>\n",
       "      <td>0.0</td>\n",
       "      <td>0.0</td>\n",
       "      <td>17.0</td>\n",
       "      <td>16.0</td>\n",
       "      <td>0.0</td>\n",
       "      <td>0.0</td>\n",
       "      <td>0.0</td>\n",
       "    </tr>\n",
       "    <tr>\n",
       "      <th>...</th>\n",
       "      <td>...</td>\n",
       "      <td>...</td>\n",
       "      <td>...</td>\n",
       "      <td>...</td>\n",
       "      <td>...</td>\n",
       "      <td>...</td>\n",
       "      <td>...</td>\n",
       "      <td>...</td>\n",
       "    </tr>\n",
       "    <tr>\n",
       "      <th>41406</th>\n",
       "      <td>65223</td>\n",
       "      <td>1.0</td>\n",
       "      <td>0.0</td>\n",
       "      <td>0.0</td>\n",
       "      <td>0.0</td>\n",
       "      <td>1.0</td>\n",
       "      <td>1.0</td>\n",
       "      <td>1.0</td>\n",
       "    </tr>\n",
       "    <tr>\n",
       "      <th>12607</th>\n",
       "      <td>19716</td>\n",
       "      <td>1.0</td>\n",
       "      <td>0.0</td>\n",
       "      <td>0.0</td>\n",
       "      <td>0.0</td>\n",
       "      <td>1.0</td>\n",
       "      <td>1.0</td>\n",
       "      <td>1.0</td>\n",
       "    </tr>\n",
       "    <tr>\n",
       "      <th>36297</th>\n",
       "      <td>57135</td>\n",
       "      <td>2.0</td>\n",
       "      <td>0.0</td>\n",
       "      <td>0.0</td>\n",
       "      <td>0.0</td>\n",
       "      <td>1.0</td>\n",
       "      <td>1.0</td>\n",
       "      <td>1.0</td>\n",
       "    </tr>\n",
       "    <tr>\n",
       "      <th>30237</th>\n",
       "      <td>47562</td>\n",
       "      <td>4.0</td>\n",
       "      <td>0.0</td>\n",
       "      <td>0.0</td>\n",
       "      <td>0.0</td>\n",
       "      <td>1.0</td>\n",
       "      <td>1.0</td>\n",
       "      <td>1.0</td>\n",
       "    </tr>\n",
       "    <tr>\n",
       "      <th>41235</th>\n",
       "      <td>64954</td>\n",
       "      <td>6.0</td>\n",
       "      <td>0.0</td>\n",
       "      <td>0.0</td>\n",
       "      <td>0.0</td>\n",
       "      <td>1.0</td>\n",
       "      <td>1.0</td>\n",
       "      <td>1.0</td>\n",
       "    </tr>\n",
       "  </tbody>\n",
       "</table>\n",
       "<p>131209 rows × 8 columns</p>\n",
       "</div>"
      ],
      "text/plain": [
       "       user_id   tp   tn    fp    fn  precision  recall   f1\n",
       "65604   103150  0.0  0.0   5.0   5.0        0.0     0.0  0.0\n",
       "57176    89841  0.0  0.0   6.0   6.0        0.0     0.0  0.0\n",
       "57175    89840  0.0  0.0  11.0  10.0        0.0     0.0  0.0\n",
       "57174    89837  0.0  0.0   4.0   1.0        0.0     0.0  0.0\n",
       "57171    89833  0.0  0.0  17.0  16.0        0.0     0.0  0.0\n",
       "...        ...  ...  ...   ...   ...        ...     ...  ...\n",
       "41406    65223  1.0  0.0   0.0   0.0        1.0     1.0  1.0\n",
       "12607    19716  1.0  0.0   0.0   0.0        1.0     1.0  1.0\n",
       "36297    57135  2.0  0.0   0.0   0.0        1.0     1.0  1.0\n",
       "30237    47562  4.0  0.0   0.0   0.0        1.0     1.0  1.0\n",
       "41235    64954  6.0  0.0   0.0   0.0        1.0     1.0  1.0\n",
       "\n",
       "[131209 rows x 8 columns]"
      ]
     },
     "execution_count": 44,
     "metadata": {},
     "output_type": "execute_result"
    }
   ],
   "source": [
    "result_user.sort_values(\"precision\")"
   ]
  },
  {
   "cell_type": "code",
   "execution_count": 45,
   "id": "e6971633",
   "metadata": {},
   "outputs": [
    {
     "data": {
      "text/plain": [
       "0.18844655416352427"
      ]
     },
     "execution_count": 45,
     "metadata": {},
     "output_type": "execute_result"
    }
   ],
   "source": [
    "result_user['f1'].mean()"
   ]
  },
  {
   "cell_type": "markdown",
   "id": "aba74fa5",
   "metadata": {},
   "source": [
    "For our simple rule of using second to last orders for predictions, our F1 score is 18.84"
   ]
  }
 ],
 "metadata": {
  "kernelspec": {
   "display_name": "Python 3 (ipykernel)",
   "language": "python",
   "name": "python3"
  },
  "language_info": {
   "codemirror_mode": {
    "name": "ipython",
    "version": 3
   },
   "file_extension": ".py",
   "mimetype": "text/x-python",
   "name": "python",
   "nbconvert_exporter": "python",
   "pygments_lexer": "ipython3",
   "version": "3.9.12"
  }
 },
 "nbformat": 4,
 "nbformat_minor": 5
}
